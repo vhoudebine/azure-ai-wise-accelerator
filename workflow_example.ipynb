{
 "cells": [
  {
   "cell_type": "code",
   "execution_count": 1,
   "metadata": {},
   "outputs": [],
   "source": [
    "import sys\n",
    "from dotenv import load_dotenv\n",
    "import os \n",
    "\n",
    "load_dotenv(override=True)\n",
    "\n",
    "sys.path.append('src')"
   ]
  },
  {
   "cell_type": "code",
   "execution_count": 2,
   "metadata": {},
   "outputs": [
    {
     "data": {
      "text/plain": [
       "True"
      ]
     },
     "execution_count": 2,
     "metadata": {},
     "output_type": "execute_result"
    }
   ],
   "source": [
    "#Load environment variables\n",
    "from dotenv import load_dotenv\n",
    "import os \n",
    "\n",
    "load_dotenv(override=True)"
   ]
  },
  {
   "cell_type": "markdown",
   "metadata": {},
   "source": [
    "## 1. Extracting facts from uploaded PDF documents"
   ]
  },
  {
   "cell_type": "code",
   "execution_count": 3,
   "metadata": {},
   "outputs": [],
   "source": [
    "from openai import AzureOpenAI\n",
    "from azure.ai.documentintelligence import DocumentIntelligenceClient\n",
    "from azure.core.credentials import AzureKeyCredential\n",
    "from azure.identity import DefaultAzureCredential\n",
    "from azure.storage.blob import BlobServiceClient\n",
    "\n",
    "# create AOAI client\n",
    "aoai_client = AzureOpenAI(azure_endpoint=os.getenv('AZURE_OPENAI_ENDPOINT'),\n",
    "                     api_key=os.getenv('AZURE_OPENAI_KEY'),\n",
    "                     api_version='2024-10-21')\n",
    "\n",
    "# create Azure Storage Container Client to download the source documents\n",
    "storage_account_name = os.getenv(\"AZURE_STORAGE_ACCOUNT_NAME\")\n",
    "storage_container_name = \"wise-inputs\"\n",
    "\n",
    "blob_service_client = BlobServiceClient(\n",
    "    account_url=f\"https://{storage_account_name}.blob.core.windows.net\",\n",
    "    credential=DefaultAzureCredential()\n",
    ")\n",
    "\n",
    "container_client = blob_service_client.get_container_client(storage_container_name)\n",
    "\n",
    "\n",
    "# create Azure Document Intelligence Client to parse the PDF documents\n",
    "doc_intelligence_endpoint = os.getenv(\"AZURE_DOCUMENT_INTELLIGENCE_ENDPOINT\")\n",
    "doc_intelligence_key = os.getenv(\"AZURE_DOCUMENT_INTELLIGENCE_KEY\")\n",
    "\n",
    "\n",
    "document_analysis_client = DocumentIntelligenceClient(\n",
    "    endpoint=doc_intelligence_endpoint,\n",
    "    credential=AzureKeyCredential(doc_intelligence_key)\n",
    ")"
   ]
  },
  {
   "cell_type": "code",
   "execution_count": 4,
   "metadata": {},
   "outputs": [
    {
     "name": "stdout",
     "output_type": "stream",
     "text": [
      "Analyzing fidelity1.pdf...\n",
      "Summarizing fidelity1.pdf...\n"
     ]
    },
    {
     "name": "stderr",
     "output_type": "stream",
     "text": [
      "100%|██████████| 8/8 [00:17<00:00,  2.20s/it]\n"
     ]
    },
    {
     "name": "stdout",
     "output_type": "stream",
     "text": [
      "Analyzing fidelity2.pdf...\n",
      "Summarizing fidelity2.pdf...\n"
     ]
    },
    {
     "name": "stderr",
     "output_type": "stream",
     "text": [
      "100%|██████████| 11/11 [00:31<00:00,  2.84s/it]\n"
     ]
    },
    {
     "name": "stdout",
     "output_type": "stream",
     "text": [
      "Analyzing fidelity3.pdf...\n",
      "Summarizing fidelity3.pdf...\n"
     ]
    },
    {
     "name": "stderr",
     "output_type": "stream",
     "text": [
      "100%|██████████| 11/11 [00:36<00:00,  3.33s/it]\n"
     ]
    },
    {
     "name": "stdout",
     "output_type": "stream",
     "text": [
      "Analyzing fidelity4.pdf...\n",
      "Summarizing fidelity4.pdf...\n"
     ]
    },
    {
     "name": "stderr",
     "output_type": "stream",
     "text": [
      "100%|██████████| 11/11 [00:32<00:00,  2.93s/it]\n"
     ]
    },
    {
     "name": "stdout",
     "output_type": "stream",
     "text": [
      "Analyzing fidelity5.pdf...\n",
      "Summarizing fidelity5.pdf...\n"
     ]
    },
    {
     "name": "stderr",
     "output_type": "stream",
     "text": [
      "100%|██████████| 9/9 [00:18<00:00,  2.05s/it]\n"
     ]
    }
   ],
   "source": [
    "from wise.fact_extractor import FactExtractor\n",
    "\n",
    "extractor = FactExtractor(aoai_client, \n",
    "                          document_analysis_client, \n",
    "                          container_client)\n",
    "\n",
    "facts = extractor.extract_facts()"
   ]
  },
  {
   "cell_type": "code",
   "execution_count": 5,
   "metadata": {},
   "outputs": [
    {
     "name": "stdout",
     "output_type": "stream",
     "text": [
      "The Fidelity International High Dividend ETF (FIDI) is listed on the NYSE Arca, Inc. and aims to provide investment returns that align with the Fidelity International High Dividend Index. The fund has no shareholder fees and an annual operating expense of 0.18%, which includes a management fee of 0.18% and no distribution or other expenses. The fund's prospectus and additional information are available online or by contacting Fidelity.\n",
      "\n",
      "The document provides an example illustrating the impact of fees and expenses on investments, noting that actual fees, expenses, and returns may vary. For a $10,000 investment, total expenses upon selling shares are $18 after 1 year, $58 after 3 years, $101 after 5 years, and $230 after 10 years. The fund's portfolio turnover rate was 67% of its average portfolio value in the most recent fiscal year, indicating potential higher transaction costs and tax implications. The fund invests at least 80% of its assets in securities from the Fidelity International High Dividend IndexSM, focusing on large- and mid-cap international companies with high dividend yields. It also lends securities to generate income. Principal investment risks include stock market volatility and foreign exposure, with markets reacting differently to various developments.\n",
      "\n",
      "Foreign markets are generally more volatile than the U.S. market due to risks such as adverse issuer, political, regulatory, market, or economic developments. Foreign exchange rates can also be highly volatile. The fund has significant investments in Europe and Japan, making its performance closely tied to the social, political, and economic conditions in these regions, leading to higher volatility compared to more geographically diversified funds. The value of individual securities can be more volatile than the market overall, and changes in an issuer's financial condition can increase default risk, affecting security value and recovery of capital. The fund's net asset value (NAV) per share fluctuates with market value changes, and shares can trade at a premium or discount to NAV due to market volatility, disruptions, or lack of active trading. This can result in larger premiums or discounts compared to other ETFs.\n",
      "\n",
      "In stressed market conditions, the liquidity of a fund's shares may decrease due to reduced liquidity in its underlying portfolio. The fund's performance may differ from its index due to fees, transaction costs, sample selection, regulatory restrictions, and timing differences. Errors in index construction or calculation can adversely affect the fund. The fund uses a passive management strategy to track an unmanaged index, which may result in lower performance compared to actively managed funds that adjust portfolios based on market conditions. The fund's concentration will mirror that of its index in specific industries. Active trading markets for the fund's shares are not guaranteed, and trading may be halted due to market conditions. Mid-cap securities can be more volatile and perform differently from larger issuers.\n",
      "\n",
      "Securities lending carries the risk of borrowers failing to return loaned securities, potentially causing delays and costs in recovery. The fund's index aims to identify dividend-paying stocks, but there's no guarantee of success, and dividend reductions can impact income. The fund is not insured by the FDIC, and investments may result in losses. Performance data shows year-by-year returns: 15.84% in 2019, -11.65% in 2020, 17.32% in 2021, and -5.26% in 2022. Visit fidelity.com for updated performance information. Past performance does not predict future results.\n",
      "\n",
      "The document provides a summary of financial returns for a specific fund. The highest quarterly return was 17.70% for the quarter ending December 31, 2022, while the lowest was -29.57% for the quarter ending March 31, 2020. For the period ending December 31, 2023, the Fidelity International High Dividend ETF had a return before taxes of 16.60% for the past year and 1.17% for the life of the fund. The return after taxes on distributions was 15.40% for the past year and 0.34% for the life of the fund. The return after taxes on distributions and sale of fund shares was 10.87% for the past year and 0.98% for the life of the fund. These returns are calculated using historical highest individual federal marginal income tax rates and do not account for state or local taxes.\n",
      "\n",
      "The fund is managed by Fidelity Management & Research Company LLC, with Geode Capital Management, LLC as a sub-adviser. The portfolio managers include Louis Bottari, Peter Matthew, Navid Sohrabi, Robert Regan, and Payal Gupta, with management starting from 2018 and 2019. The MSCI World ex USA Index showed returns of 18.21% and 3.83%. Shares of the fund are traded on an exchange and can only be bought or sold through a broker at market prices, which may differ from the fund's NAV. Investors may face costs due to the bid-ask spread. More information is available on Fidelity's website.\n",
      "\n",
      "Distributions from the fund are subject to federal income tax and may be taxed as ordinary income or capital gains, with potential state or local taxes, unless invested through a tax-advantaged retirement account. The fund, Adviser, Fidelity Distributors Company LLC (FDC), and affiliates may pay intermediaries, such as banks and broker-dealers, for selling fund shares and related services, which could create a conflict of interest. Fidelity Distributors Company LLC is a member of the Securities Investor Protection Corporation (SIPC), and more information can be found at www.sipc.org. Fidelity trademarks are owned by FMR LLC.\n"
     ]
    }
   ],
   "source": [
    "print(facts[0])"
   ]
  },
  {
   "cell_type": "markdown",
   "metadata": {},
   "source": [
    "## 2. Evaluate a role play transcript: fact checking + custom evaluators "
   ]
  },
  {
   "cell_type": "code",
   "execution_count": 6,
   "metadata": {},
   "outputs": [],
   "source": [
    "transcript = \"\"\"{\n",
    "  \"conversation\": [\n",
    "    {\n",
    "      \"speaker\": \"Advisor\",\n",
    "      \"text\": \"Hey Jonathan, it's Alex from Fidelity Investments. How's it going today?\"\n",
    "    },\n",
    "    {\n",
    "      \"speaker\": \"Client\",\n",
    "      \"text\": \"Hey Alex, doing well, thanks! Just trying to get a better handle on some investment options. Heard you guys have some interesting products.\"\n",
    "    },\n",
    "    {\n",
    "      \"speaker\": \"Advisor\",\n",
    "      \"text\": \"Absolutely, we've got a few that might catch your interest. Let's dive in. What are you curious about?\"\n",
    "    },\n",
    "    {\n",
    "      \"speaker\": \"Client\",\n",
    "      \"text\": \"Well, I'm looking for something with good returns but not too risky. I've got a decent mix already, but I'm open to exploring more. What do you suggest?\"\n",
    "    },\n",
    "    {\n",
    "      \"speaker\": \"Advisor\",\n",
    "      \"text\": \"Got it. Let's start with the Fidelity International High Dividend ETF, or FIDI. It's all about those high dividends from large and mid-cap international companies. The annual operating expense is just 0.18%, so it's pretty cost-effective.\"\n",
    "    },\n",
    "    {\n",
    "      \"speaker\": \"Client\",\n",
    "      \"text\": \"Sounds interesting. How's the performance been lately?\"\n",
    "    },\n",
    "    {\n",
    "      \"speaker\": \"Advisor\",\n",
    "      \"text\": \"From 2019 to 2023, returns have ranged from -11.65% to 17.32%. In 2023, it was up 16.60% before taxes. Not too shabby, right?\"\n",
    "    },\n",
    "    {\n",
    "      \"speaker\": \"Client\",\n",
    "      \"text\": \"Yeah, not bad at all. What about risks? Anything I should be worried about?\"\n",
    "    },\n",
    "    {\n",
    "      \"speaker\": \"Advisor\",\n",
    "      \"text\": \"Good question. There's the usual market volatility and foreign exposure. Plus, since it's passively managed, it might not always match the index perfectly. But overall, it's a solid choice for dividend-focused investing.\"\n",
    "    },\n",
    "    {\n",
    "      \"speaker\": \"Client\",\n",
    "      \"text\": \"Okay, cool. What else do you have?\"\n",
    "    },\n",
    "    {\n",
    "      \"speaker\": \"Advisor\",\n",
    "      \"text\": \"You might like the Fidelity Blue Chip Growth ETF, FBCG. It's all about long-term capital growth with a focus on blue chip companies. The management fee is a bit higher at 0.59%, but it's had some impressive returns.\"\n",
    "    },\n",
    "    {\n",
    "      \"speaker\": \"Client\",\n",
    "      \"text\": \"Impressive, huh? Like what?\"\n",
    "    },\n",
    "    {\n",
    "      \"speaker\": \"Advisor\",\n",
    "      \"text\": \"In 2023, it returned a whopping 57.72%! But keep in mind, it's not without its ups and downs. 2022 was a rough year with a -39.01% return.\"\n",
    "    },\n",
    "    {\n",
    "      \"speaker\": \"Client\",\n",
    "      \"text\": \"Wow, that's quite a swing. What's the deal with the 'Tracking Basket' thing I heard about?\"\n",
    "    },\n",
    "    {\n",
    "      \"speaker\": \"Advisor\",\n",
    "      \"text\": \"Ah, the Tracking Basket. It's a way to keep the fund's strategy under wraps, which can help protect against copycats. But it might lead to higher trading costs and price discrepancies.\"\n",
    "    },\n",
    "    {\n",
    "      \"speaker\": \"Client\",\n",
    "      \"text\": \"Got it. Anything else I should consider?\"\n",
    "    },\n",
    "    {\n",
    "      \"speaker\": \"Advisor\",\n",
    "      \"text\": \"Sure, there's the Fidelity High Dividend ETF, FDVV. It's got a super low expense ratio of 0.16% and focuses on high-dividend-paying companies. The returns have been pretty steady, with a 17.90% return in 2023.\"\n",
    "    },\n",
    "    {\n",
    "      \"speaker\": \"Client\",\n",
    "      \"text\": \"That sounds like a safe bet. How does it compare to the others in terms of risk?\"\n",
    "    },\n",
    "    {\n",
    "      \"speaker\": \"Advisor\",\n",
    "      \"text\": \"It's generally less volatile than the Blue Chip Growth ETF, but like any investment, there's still market risk and foreign exposure. It's a good option if you're looking for steady income.\"\n",
    "    },\n",
    "    {\n",
    "      \"speaker\": \"Client\",\n",
    "      \"text\": \"Alright, thanks for breaking it down, Alex. What's the next step if I want to move forward with any of these?\"\n",
    "    },\n",
    "    {\n",
    "      \"speaker\": \"Advisor\",\n",
    "      \"text\": \"No problem, Jonathan. We can set up a time to go over your portfolio in more detail and see how these fit in. I'll send you an email with some times that work for me. Sound good?\"\n",
    "    },\n",
    "    {\n",
    "      \"speaker\": \"Client\",\n",
    "      \"text\": \"Sounds perfect. Thanks again, Alex. Looking forward to it!\"\n",
    "    },\n",
    "    {\n",
    "      \"speaker\": \"Advisor\",\n",
    "      \"text\": \"Great! Talk soon, Jonathan. Take care!\"\n",
    "    }\n",
    "  ]\n",
    "}\"\"\""
   ]
  },
  {
   "cell_type": "markdown",
   "metadata": {},
   "source": [
    "### 2.a) Fact check the call against a list of known facts about the offering"
   ]
  },
  {
   "cell_type": "code",
   "execution_count": 7,
   "metadata": {},
   "outputs": [],
   "source": [
    "from wise.fact_checker import FactChecker"
   ]
  },
  {
   "cell_type": "code",
   "execution_count": 8,
   "metadata": {},
   "outputs": [],
   "source": [
    "fact_string = ('##### \\n').join(facts)\n",
    "fact_checker = FactChecker(aoai_client, fact_string, model='gpt-4o-global')\n",
    "fact_checker_report = fact_checker.check_transcript(transcript)"
   ]
  },
  {
   "cell_type": "code",
   "execution_count": 9,
   "metadata": {},
   "outputs": [
    {
     "data": {
      "text/plain": [
       "{'total_facts_shared': 18,\n",
       " 'accurate_facts_count': 18,\n",
       " 'fact_details': [{'fact': 'The Fidelity International High Dividend ETF (FIDI) has an annual operating expense of 0.18%.',\n",
       "   'accuracy': 'accurate',\n",
       "   'citation': 'The Fidelity International High Dividend ETF (FIDI) has an annual operating expense of 0.18%, which includes a management fee of 0.18% and no distribution or other expenses.'},\n",
       "  {'fact': 'From 2019 to 2023, returns have ranged from -11.65% to 17.32%.',\n",
       "   'accuracy': 'accurate',\n",
       "   'citation': 'The document states that the performance data shows year-by-year returns: 15.84% in 2019, -11.65% in 2020, 17.32% in 2021, and -5.26% in 2022.'},\n",
       "  {'fact': 'In 2023, it was up 16.60% before taxes.',\n",
       "   'accuracy': 'accurate',\n",
       "   'citation': 'The document states that for the period ending December 31, 2023, the Fidelity International High Dividend ETF had a return before taxes of 16.60% for the past year.'},\n",
       "  {'fact': 'From 2019 to 2023, returns have ranged from -11.65% to 17.32%. In 2023, it was up 16.60% before taxes.',\n",
       "   'accuracy': 'accurate',\n",
       "   'citation': 'The document provides performance data for the Fidelity International High Dividend ETF, showing returns of 15.84% in 2019, -11.65% in 2020, 17.32% in 2021, and -5.26% in 2022. For the period ending December 31, 2023, the fund had a return before taxes of 16.60% for the past year.'},\n",
       "  {'fact': 'The Fidelity Blue Chip Growth ETF (FBCG) has a management fee of 0.59%.',\n",
       "   'accuracy': 'accurate',\n",
       "   'citation': 'The Fidelity® Blue Chip Growth ETF aims for long-term capital growth. It has no shareholder fees and an annual operating expense of 0.60%, which includes a management fee of 0.59% and other expenses of 0.01%.'},\n",
       "  {'fact': 'In 2023, the Fidelity Blue Chip Growth ETF (FBCG) returned 57.72%.',\n",
       "   'accuracy': 'accurate',\n",
       "   'citation': \"The fund's performance has varied significantly over recent years, with a 21.11% return in 2021, a -39.01% return in 2022, and a 57.72% return in 2023.\"},\n",
       "  {'fact': 'In 2022, the Fidelity Blue Chip Growth ETF (FBCG) had a -39.01% return.',\n",
       "   'accuracy': 'accurate',\n",
       "   'citation': \"The fund's performance has varied significantly over recent years, with a 21.11% return in 2021, a -39.01% return in 2022, and a 57.72% return in 2023.\"},\n",
       "  {'fact': 'In 2023, the Fidelity Blue Chip Growth ETF (FBCG) returned 57.72%.',\n",
       "   'accuracy': 'accurate',\n",
       "   'citation': \"The fund's performance has varied significantly over recent years, with a 57.72% return in 2023.\"},\n",
       "  {'fact': 'In 2022, the Fidelity Blue Chip Growth ETF (FBCG) had a -39.01% return.',\n",
       "   'accuracy': 'accurate',\n",
       "   'citation': \"The fund's performance has varied significantly over recent years, with a -39.01% return in 2022.\"},\n",
       "  {'fact': \"The Fidelity Blue Chip Growth ETF (FBCG) uses a 'Tracking Basket' to keep its strategy under wraps.\",\n",
       "   'accuracy': 'accurate',\n",
       "   'citation': \"The fund is an actively managed ETF that does not disclose its complete portfolio daily but uses a 'Tracking Basket' to closely track its performance.\"},\n",
       "  {'fact': 'The Fidelity High Dividend ETF (FDVV) has an expense ratio of 0.16%.',\n",
       "   'accuracy': 'accurate',\n",
       "   'citation': 'The Fidelity High Dividend ETF (FDVV) is listed on the NYSE Arca, Inc. and aims to provide investment returns that align with the Fidelity High Dividend Index. The fund has no shareholder fees and an annual operating expense of 0.16%, which includes a management fee of 0.15% and other expenses of 0.01%.'},\n",
       "  {'fact': 'The Fidelity High Dividend ETF (FDVV) had a return of 17.90% in 2023.',\n",
       "   'accuracy': 'accurate',\n",
       "   'citation': 'For the periods ending December 31, 2023, the Fidelity High Dividend ETF had a return before taxes of 17.90% for the past year.'},\n",
       "  {'fact': 'The Fidelity High Dividend ETF (FDVV) has an expense ratio of 0.16%.',\n",
       "   'accuracy': 'accurate',\n",
       "   'citation': 'The Fidelity High Dividend ETF (FDVV) is listed on the NYSE Arca, Inc. and aims to provide investment returns that align with the Fidelity High Dividend Index. The fund has no shareholder fees and an annual operating expense of 0.16%, which includes a management fee of 0.15% and other expenses of 0.01%.'},\n",
       "  {'fact': 'The Fidelity High Dividend ETF (FDVV) had a return of 17.90% in 2023.',\n",
       "   'accuracy': 'accurate',\n",
       "   'citation': 'For the periods ending December 31, 2023, the Fidelity High Dividend ETF had a return before taxes of 17.90% for the past year.'},\n",
       "  {'fact': 'The Fidelity High Dividend ETF (FDVV) has an expense ratio of 0.16%.',\n",
       "   'accuracy': 'accurate',\n",
       "   'citation': 'The Fidelity High Dividend ETF (FDVV) is listed on the NYSE Arca, Inc. and aims to provide investment returns that align with the Fidelity High Dividend Index. The fund has no shareholder fees and an annual operating expense of 0.16%, which includes a management fee of 0.15% and other expenses of 0.01%.'},\n",
       "  {'fact': 'The Fidelity High Dividend ETF (FDVV) had a return of 17.90% in 2023.',\n",
       "   'accuracy': 'accurate',\n",
       "   'citation': 'For the periods ending December 31, 2023, the Fidelity High Dividend ETF had a return before taxes of 17.90% for the past year.'},\n",
       "  {'fact': 'The Fidelity High Dividend ETF (FDVV) has a super low expense ratio of 0.16%.',\n",
       "   'accuracy': 'accurate',\n",
       "   'citation': 'The Fidelity High Dividend ETF (FDVV) is listed on the NYSE Arca, Inc. and aims to provide investment returns that align with the Fidelity High Dividend Index. The fund has no shareholder fees and an annual operating expense of 0.16%, which includes a management fee of 0.15% and other expenses of 0.01%.'},\n",
       "  {'fact': 'The Fidelity High Dividend ETF (FDVV) had a 17.90% return in 2023.',\n",
       "   'accuracy': 'accurate',\n",
       "   'citation': 'For the periods ending December 31, 2023, the Fidelity High Dividend ETF had a return before taxes of 17.90% for the past year.'}]}"
      ]
     },
     "execution_count": 9,
     "metadata": {},
     "output_type": "execute_result"
    }
   ],
   "source": [
    "fact_checker_report"
   ]
  },
  {
   "cell_type": "markdown",
   "metadata": {},
   "source": [
    "### 2.b) Use custom evaluation criteria to score the call"
   ]
  },
  {
   "cell_type": "code",
   "execution_count": 11,
   "metadata": {},
   "outputs": [
    {
     "name": "stdout",
     "output_type": "stream",
     "text": [
      "{'evaluation': {'criteria': [{'name': 'Next_steps', 'sub_criteria': [{'name': 'Clear Next Steps', 'score': 1, 'rationale': \"The advisor clearly outlined the next steps by suggesting setting up a time to go over the client's portfolio in more detail and promised to send an email with available times.\"}], 'score': 1, 'rationale': 'The advisor effectively planned clear next steps for the client to take after the conversation.'}, {'name': 'Product_knowledge', 'sub_criteria': [{'name': 'Understanding of Products', 'score': 1, 'rationale': 'The advisor demonstrated a strong understanding of the products by providing detailed information about various investment options, including their performance, risks, and unique features.'}], 'score': 1, 'rationale': 'The advisor showed a strong understanding of the products discussed, providing comprehensive details and comparisons.'}, {'name': 'Discovery', 'sub_criteria': [{'name': 'Understanding Client Needs', 'score': 1, 'rationale': \"The advisor asked questions to understand the client's needs and preferences, such as their interest in good returns with low risk and their current investment mix.\"}], 'score': 1, 'rationale': \"The advisor effectively asked questions to understand the client's needs and preferences, tailoring the conversation to the client's interests.\"}], 'classification': 'Excellent', 'overall_score': 3, 'rationale': 'The advisor excelled in all evaluated criteria, demonstrating strong product knowledge, understanding of client needs, and planning clear next steps.', 'improvement_suggestion': \"The advisor could enhance the conversation by providing more personalized recommendations based on the client's current portfolio and financial goals.\"}}\n"
     ]
    }
   ],
   "source": [
    "import json\n",
    "from wise.evaluator import Evaluator\n",
    "\n",
    "evaluation_criteria = [{\"criteria\":\"Next_steps\",\n",
    " \"description\":\"The Advisor planned clear next steps for the Client to take after the conversation.\",\n",
    " \"score\":1\n",
    " },\n",
    "{\"criteria\":\"Product_knowledge\",\n",
    " \"description\": \"The Advisor demonstrated a strong understanding of the products they were discussing.\",\n",
    " \"score\":1\n",
    "},\n",
    "{\n",
    "    \"criteria\": \"Discovery\",\n",
    "    \"description\":\" The Advisor asked the Client questions to understand their needs and preferences.\",\n",
    "    \"score\":1\n",
    "}\n",
    "]\n",
    "\n",
    "theme = \"Initial call between a wealth advisor and a prospective customer\"\n",
    "\n",
    "evaluator = Evaluator(aoai_client, evaluation_criteria, theme)\n",
    "evaluation = evaluator.evaluate_transcription(transcript)\n",
    "\n",
    "print(evaluation)"
   ]
  },
  {
   "cell_type": "code",
   "execution_count": null,
   "metadata": {},
   "outputs": [],
   "source": []
  }
 ],
 "metadata": {
  "kernelspec": {
   "display_name": "wise",
   "language": "python",
   "name": "python3"
  },
  "language_info": {
   "codemirror_mode": {
    "name": "ipython",
    "version": 3
   },
   "file_extension": ".py",
   "mimetype": "text/x-python",
   "name": "python",
   "nbconvert_exporter": "python",
   "pygments_lexer": "ipython3",
   "version": "3.11.11"
  }
 },
 "nbformat": 4,
 "nbformat_minor": 2
}
